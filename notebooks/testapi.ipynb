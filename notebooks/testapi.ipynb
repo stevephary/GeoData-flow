{
 "cells": [
  {
   "cell_type": "code",
   "execution_count": 19,
   "metadata": {},
   "outputs": [
    {
     "name": "stdout",
     "output_type": "stream",
     "text": [
      "            Name Code\n",
      "0    Afghanistan   AF\n",
      "1        Albania   AL\n",
      "2        Algeria   DZ\n",
      "3        Andorra   AD\n",
      "4         Angola   AO\n",
      "..           ...  ...\n",
      "193    Venezuela   VE\n",
      "194      Vietnam   VN\n",
      "195        Yemen   YE\n",
      "196       Zambia   ZM\n",
      "197     Zimbabwe   ZW\n",
      "\n",
      "[198 rows x 2 columns]\n"
     ]
    }
   ],
   "source": [
    "import requests\n",
    "import time\n",
    "import pandas as pd\n",
    "\n",
    "url = \"https://wft-geo-db.p.rapidapi.com/v1/geo/countries\"\n",
    "\n",
    "headers = {\n",
    "\t\"X-RapidAPI-Key\": \"b060ae274fmsh94d9502f747c895p1d3499jsn2f39c07a0c9a\",\n",
    "\t\"X-RapidAPI-Host\": \"wft-geo-db.p.rapidapi.com\"\n",
    "}\n",
    "\n",
    "offset = 0\n",
    "limit = 10\n",
    "\n",
    "data = []\n",
    "\n",
    "for iteration in range(20):  # Perform 10 iterations\n",
    "    params = {\"limit\": limit, \"offset\": offset}\n",
    "\n",
    "    response = requests.get(url, headers=headers, params=params)\n",
    "\n",
    "    if response.status_code == 200:\n",
    "        countries_data = response.json()\n",
    "        for country in countries_data['data']:\n",
    "            data.append([country['name'], country['code']])\n",
    "\n",
    "        # Increment the offset for the next iteration\n",
    "        offset += limit\n",
    "\n",
    "    else:\n",
    "        print(\"Failed to retrieve data. Status code:\", response.status_code)\n",
    "\n",
    "    # Sleep for 1 second before the next request\n",
    "    time.sleep(1)\n",
    "    \n",
    "\n",
    "df = pd.DataFrame(data, columns=[\"Name\", \"Code\"])\n",
    "\n",
    "print(df)"
   ]
  },
  {
   "cell_type": "code",
   "execution_count": 20,
   "metadata": {},
   "outputs": [
    {
     "name": "stdout",
     "output_type": "stream",
     "text": [
      "<class 'pandas.core.frame.DataFrame'>\n",
      "RangeIndex: 198 entries, 0 to 197\n",
      "Data columns (total 2 columns):\n",
      " #   Column  Non-Null Count  Dtype \n",
      "---  ------  --------------  ----- \n",
      " 0   Name    198 non-null    object\n",
      " 1   Code    198 non-null    object\n",
      "dtypes: object(2)\n",
      "memory usage: 3.2+ KB\n"
     ]
    }
   ],
   "source": [
    "df.info()"
   ]
  },
  {
   "cell_type": "code",
   "execution_count": 3,
   "metadata": {},
   "outputs": [
    {
     "name": "stdout",
     "output_type": "stream",
     "text": [
      "{'data': {'capital': 'Kabul', 'code': 'AF', 'callingCode': '+93', 'currencyCodes': ['AFN'], 'flagImageUri': 'http://commons.wikimedia.org/wiki/Special:FilePath/Flag%20of%20the%20Taliban.svg', 'name': 'Afghanistan', 'numRegions': 34, 'wikiDataId': 'Q889'}}\n"
     ]
    }
   ],
   "source": [
    "import requests\n",
    "\n",
    "url = \"https://wft-geo-db.p.rapidapi.com/v1/geo/countries/AF\"\n",
    "\n",
    "headers = {\n",
    "\t\"X-RapidAPI-Key\": \"b060ae274fmsh94d9502f747c895p1d3499jsn2f39c07a0c9a\",\n",
    "\t\"X-RapidAPI-Host\": \"wft-geo-db.p.rapidapi.com\"\n",
    "}\n",
    "\n",
    "\n",
    "response = requests.get(url, headers=headers)\n",
    "\n",
    "print(response.json())"
   ]
  }
 ],
 "metadata": {
  "kernelspec": {
   "display_name": "geodataflow",
   "language": "python",
   "name": "python3"
  },
  "language_info": {
   "codemirror_mode": {
    "name": "ipython",
    "version": 3
   },
   "file_extension": ".py",
   "mimetype": "text/x-python",
   "name": "python",
   "nbconvert_exporter": "python",
   "pygments_lexer": "ipython3",
   "version": "3.11.4"
  }
 },
 "nbformat": 4,
 "nbformat_minor": 2
}
