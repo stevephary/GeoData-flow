{
 "cells": [
  {
   "cell_type": "code",
   "execution_count": 5,
   "metadata": {},
   "outputs": [
    {
     "name": "stdout",
     "output_type": "stream",
     "text": [
      "{'data': {'capital': 'Kabul', 'code': 'AF', 'callingCode': '+93', 'currencyCodes': ['AFN'], 'flagImageUri': 'http://commons.wikimedia.org/wiki/Special:FilePath/Flag%20of%20the%20Taliban.svg', 'name': 'Afghanistan', 'numRegions': 34, 'wikiDataId': 'Q889'}}\n"
     ]
    }
   ],
   "source": [
    "import requests\n",
    "\n",
    "url = \"https://wft-geo-db.p.rapidapi.com/v1/geo/countries/AF\"\n",
    "\n",
    "headers = {\n",
    "\t\"X-RapidAPI-Key\": \"b060ae274fmsh94d9502f747c895p1d3499jsn2f39c07a0c9a\",\n",
    "\t\"X-RapidAPI-Host\": \"wft-geo-db.p.rapidapi.com\"\n",
    "}\n",
    "\n",
    "response = requests.get(url, headers=headers)\n",
    "\n",
    "print(response.json())"
   ]
  }
 ],
 "metadata": {
  "kernelspec": {
   "display_name": "geodataflow",
   "language": "python",
   "name": "python3"
  },
  "language_info": {
   "codemirror_mode": {
    "name": "ipython",
    "version": 3
   },
   "file_extension": ".py",
   "mimetype": "text/x-python",
   "name": "python",
   "nbconvert_exporter": "python",
   "pygments_lexer": "ipython3",
   "version": "3.11.3"
  }
 },
 "nbformat": 4,
 "nbformat_minor": 2
}
